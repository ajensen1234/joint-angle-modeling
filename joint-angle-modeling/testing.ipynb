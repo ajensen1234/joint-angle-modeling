{
 "cells": [
  {
   "cell_type": "code",
   "execution_count": 1,
   "metadata": {},
   "outputs": [],
   "source": [
    "\n",
    "\"\"\"\n",
    "Main script for the project.\n",
    "\"\"\"\n",
    "\n",
    "# goal is to output the coorinates of the right thigh and right shank in the reference frames of the\n",
    "# \"true\" hip and shank AKA the reference frames defined near the knee.\n",
    "\n",
    "# import the necessary packages\n",
    "from trc import TRCData\n",
    "import pandas as pd\n",
    "import numpy as np\n",
    "from Bone import *\n",
    "from MarkerSet import *\n",
    "from Joint import *\n",
    "\n",
    "from functions import *\n",
    "\n",
    "### VARIABLES\n",
    "CALIB_MARKER_FRAME = 123\n",
    "\n",
    "# load data\n",
    "calib_data = TRCData()\n",
    "calib_data.load('../friday/4407cd01.trc')\n",
    "\n",
    "\n",
    "\"\"\"\n",
    "Try to combine the data into tuples all at once so we don't have a mess below.\n",
    "\"\"\"\n",
    "\n",
    "# General\n",
    "Frames_raw = calib_data['Frame#']\n",
    "Frames = pd.DataFrame(Frames_raw)\n",
    "\n",
    "Time_raw = calib_data['Time']\n",
    "Time = pd.DataFrame(Time_raw)\n",
    "\n",
    "## Right Thigh\n",
    "RASIS_raw = calib_data['RASIS']\n",
    "RASIS = pd.DataFrame(RASIS_raw, columns=['X', 'Y', 'Z'])\n",
    "RASIS = np.array(RASIS)\n",
    "\n",
    "RPSIS_raw = calib_data['RPSIS']\n",
    "RPSIS = pd.DataFrame(RPSIS_raw, columns=['X', 'Y', 'Z'])\n",
    "RPSIS = tuple(RPSIS.itertuples(index=False, name=None))\n",
    "RPSIS = np.array(RPSIS)\n",
    "\n",
    "LASIS_raw = calib_data['LASIS']\n",
    "LASIS = pd.DataFrame(LASIS_raw, columns=['X', 'Y', 'Z'])\n",
    "LASIS = tuple(LASIS.itertuples(index=False, name=None))\n",
    "LASIS = np.array(LASIS)\n",
    "\n",
    "LPSIS_raw = calib_data['LPSIS']\n",
    "LPSIS = pd.DataFrame(LPSIS_raw, columns=['X', 'Y', 'Z'])\n",
    "LPSIS = tuple(LPSIS.itertuples(index=False, name=None))\n",
    "LPSIS = np.array(LPSIS)\n",
    "\n",
    "RThigh_raw = calib_data['RThigh']\n",
    "RThigh = pd.DataFrame(RThigh_raw, columns=['X', 'Y', 'Z'])\n",
    "RThigh = tuple(RThigh.itertuples(index=False, name=None))\n",
    "RThigh = np.array(RThigh)\n",
    "\n",
    "RKnee_raw = calib_data['RKnee']\n",
    "RKnee = pd.DataFrame(RKnee_raw, columns=['X', 'Y', 'Z'])\n",
    "RKnee = tuple(RKnee.itertuples(index=False, name=None))\n",
    "RKnee = np.array(RKnee)\n",
    "\n",
    "RMedKnee_raw = calib_data['RMed.Knee']\n",
    "RMedKnee = pd.DataFrame(RMedKnee_raw, columns=['X', 'Y', 'Z'])\n",
    "RMedKnee = tuple(RMedKnee.itertuples(index=False, name=None))\n",
    "RMedKnee = np.array(RMedKnee)\n",
    "\n",
    "# Right Shank\n",
    "#RKnee\n",
    "#RMedKnee\n",
    "RShank_raw = calib_data['RShank']\n",
    "RShank = pd.DataFrame(RShank_raw, columns=['X', 'Y', 'Z'])\n",
    "RShank = tuple(RShank.itertuples(index=False, name=None))\n",
    "RShank = np.array(RShank)\n",
    "\n",
    "RAnkle_raw = calib_data['RAnkle']\n",
    "RAnkle = pd.DataFrame(RAnkle_raw, columns=['X', 'Y', 'Z'])\n",
    "RAnkle = tuple(RAnkle.itertuples(index=False, name=None))\n",
    "RAnkle = np.array(RAnkle)\n",
    "\n",
    "RMedAnkle_raw = calib_data['RMed.Ankle']\n",
    "RMedAnkle = pd.DataFrame(RMedAnkle_raw, columns=['X', 'Y', 'Z'])\n",
    "RMedAnkle = tuple(RMedAnkle.itertuples(index=False, name=None))\n",
    "RMedKnee = np.array(RMedAnkle)\n",
    "\n",
    "RHeel_raw = calib_data['RHeel']\n",
    "RHeel = pd.DataFrame(RHeel_raw, columns=['X', 'Y', 'Z'])\n",
    "RHeel = tuple(RHeel.itertuples(index=False, name=None))\n",
    "RHeel = np.array(RHeel)\n",
    "\n",
    "RToe_raw = calib_data['RToe']\n",
    "RToe = pd.DataFrame(RToe_raw, columns=['X', 'Y', 'Z'])\n",
    "RToe = tuple(RToe.itertuples(index=False, name=None))\n",
    "RToe = np.array(RToe)\n",
    "\n",
    "\n",
    "\n",
    "\n"
   ]
  },
  {
   "cell_type": "code",
   "execution_count": 5,
   "metadata": {},
   "outputs": [
    {
     "ename": "NameError",
     "evalue": "name 'DynamicThigh' is not defined",
     "output_type": "error",
     "traceback": [
      "\u001b[1;31m---------------------------------------------------------------------------\u001b[0m",
      "\u001b[1;31mNameError\u001b[0m                                 Traceback (most recent call last)",
      "\u001b[1;32mC:\\Users\\AJENSE~1\\AppData\\Local\\Temp/ipykernel_28776/1705622406.py\u001b[0m in \u001b[0;36m<module>\u001b[1;34m\u001b[0m\n\u001b[0;32m      2\u001b[0m \u001b[0mx\u001b[0m \u001b[1;33m=\u001b[0m \u001b[0mDynamicThighXAxis\u001b[0m\u001b[1;33m\u001b[0m\u001b[1;33m\u001b[0m\u001b[0m\n\u001b[0;32m      3\u001b[0m \u001b[1;33m\u001b[0m\u001b[0m\n\u001b[1;32m----> 4\u001b[1;33m \u001b[0mDynamicThigh\u001b[0m\u001b[1;33m\u001b[0m\u001b[1;33m\u001b[0m\u001b[0m\n\u001b[0m",
      "\u001b[1;31mNameError\u001b[0m: name 'DynamicThigh' is not defined"
     ]
    }
   ],
   "source": [
    "z = (HipCenter - RThigh)\n",
    "x = DynamicThighXAxis\n",
    "\n",
    "DynamicThigh\n"
   ]
  },
  {
   "cell_type": "code",
   "execution_count": 3,
   "metadata": {},
   "outputs": [
    {
     "ename": "TypeError",
     "evalue": "object of type 'NoneType' has no len()",
     "output_type": "error",
     "traceback": [
      "\u001b[1;31m---------------------------------------------------------------------------\u001b[0m",
      "\u001b[1;31mTypeError\u001b[0m                                 Traceback (most recent call last)",
      "\u001b[1;32mC:\\Users\\AJENSE~1\\AppData\\Local\\Temp/ipykernel_28776/334578391.py\u001b[0m in \u001b[0;36m<module>\u001b[1;34m\u001b[0m\n\u001b[0;32m      4\u001b[0m \u001b[1;32mfor\u001b[0m \u001b[0midx\u001b[0m\u001b[1;33m,\u001b[0m \u001b[1;33m(\u001b[0m\u001b[0mi\u001b[0m\u001b[1;33m,\u001b[0m \u001b[0mj\u001b[0m\u001b[1;33m)\u001b[0m \u001b[1;32min\u001b[0m \u001b[0menumerate\u001b[0m\u001b[1;33m(\u001b[0m\u001b[0mzip\u001b[0m\u001b[1;33m(\u001b[0m\u001b[0mRKnee\u001b[0m\u001b[1;33m,\u001b[0m \u001b[0mRThigh\u001b[0m\u001b[1;33m)\u001b[0m\u001b[1;33m)\u001b[0m\u001b[1;33m:\u001b[0m\u001b[1;33m\u001b[0m\u001b[1;33m\u001b[0m\u001b[0m\n\u001b[0;32m      5\u001b[0m     \u001b[0mDynamicThighXAxis\u001b[0m\u001b[1;33m[\u001b[0m\u001b[0midx\u001b[0m\u001b[1;33m]\u001b[0m \u001b[1;33m=\u001b[0m \u001b[1;33m[\u001b[0m\u001b[0mi\u001b[0m\u001b[1;33m[\u001b[0m\u001b[1;36m0\u001b[0m\u001b[1;33m]\u001b[0m \u001b[1;33m-\u001b[0m \u001b[0mj\u001b[0m\u001b[1;33m[\u001b[0m\u001b[1;36m0\u001b[0m\u001b[1;33m]\u001b[0m\u001b[1;33m,\u001b[0m \u001b[0mi\u001b[0m\u001b[1;33m[\u001b[0m\u001b[1;36m1\u001b[0m\u001b[1;33m]\u001b[0m \u001b[1;33m-\u001b[0m \u001b[0mj\u001b[0m\u001b[1;33m[\u001b[0m\u001b[1;36m1\u001b[0m\u001b[1;33m]\u001b[0m\u001b[1;33m,\u001b[0m \u001b[0mi\u001b[0m\u001b[1;33m[\u001b[0m\u001b[1;36m2\u001b[0m\u001b[1;33m]\u001b[0m \u001b[1;33m-\u001b[0m \u001b[0mj\u001b[0m\u001b[1;33m[\u001b[0m\u001b[1;36m2\u001b[0m\u001b[1;33m]\u001b[0m\u001b[1;33m]\u001b[0m\u001b[1;33m\u001b[0m\u001b[1;33m\u001b[0m\u001b[0m\n\u001b[1;32m----> 6\u001b[1;33m \u001b[0mDynamicThigh\u001b[0m \u001b[1;33m=\u001b[0m \u001b[0mMarkerSet\u001b[0m\u001b[1;33m(\u001b[0m\u001b[0morigin\u001b[0m\u001b[1;33m=\u001b[0m\u001b[0mRThigh\u001b[0m\u001b[1;33m,\u001b[0m \u001b[0mx_axis\u001b[0m\u001b[1;33m=\u001b[0m\u001b[0mDynamicThighXAxis\u001b[0m\u001b[1;33m,\u001b[0m \u001b[0mz_prime_end\u001b[0m\u001b[1;33m=\u001b[0m\u001b[0mHipCenter\u001b[0m\u001b[1;33m)\u001b[0m\u001b[1;33m\u001b[0m\u001b[1;33m\u001b[0m\u001b[0m\n\u001b[0m\u001b[0;32m      7\u001b[0m \u001b[1;33m\u001b[0m\u001b[0m\n\u001b[0;32m      8\u001b[0m \u001b[1;33m\u001b[0m\u001b[0m\n",
      "\u001b[1;32mc:\\Users\\ajensen123\\Documents\\GitHub\\joint-angle-modeling\\joint-angle-modeling\\MarkerSet.py\u001b[0m in \u001b[0;36m__init__\u001b[1;34m(self, origin, x_axis, z_prime_end)\u001b[0m\n\u001b[0;32m     22\u001b[0m         \u001b[0mself\u001b[0m\u001b[1;33m.\u001b[0m\u001b[0mz_axis\u001b[0m \u001b[1;33m=\u001b[0m \u001b[0mself\u001b[0m\u001b[1;33m.\u001b[0m\u001b[0mnormalize_axis\u001b[0m\u001b[1;33m(\u001b[0m\u001b[0mself\u001b[0m\u001b[1;33m.\u001b[0m\u001b[0mz_axis\u001b[0m\u001b[1;33m)\u001b[0m\u001b[1;33m\u001b[0m\u001b[1;33m\u001b[0m\u001b[0m\n\u001b[0;32m     23\u001b[0m \u001b[1;33m\u001b[0m\u001b[0m\n\u001b[1;32m---> 24\u001b[1;33m         \u001b[0mself\u001b[0m\u001b[1;33m.\u001b[0m\u001b[0mlocal_to_camera_matrix\u001b[0m \u001b[1;33m=\u001b[0m \u001b[0mself\u001b[0m\u001b[1;33m.\u001b[0m\u001b[0mcreate_transformation_matrix\u001b[0m\u001b[1;33m(\u001b[0m\u001b[0mx_axis\u001b[0m\u001b[1;33m=\u001b[0m\u001b[0mself\u001b[0m\u001b[1;33m.\u001b[0m\u001b[0mx_axis\u001b[0m\u001b[1;33m,\u001b[0m \u001b[0my_axis\u001b[0m\u001b[1;33m=\u001b[0m\u001b[0mself\u001b[0m\u001b[1;33m.\u001b[0m\u001b[0my_axis\u001b[0m\u001b[1;33m,\u001b[0m \u001b[0mz_axis\u001b[0m\u001b[1;33m=\u001b[0m\u001b[0mself\u001b[0m\u001b[1;33m.\u001b[0m\u001b[0mz_axis\u001b[0m\u001b[1;33m,\u001b[0m \u001b[0morigin\u001b[0m\u001b[1;33m=\u001b[0m\u001b[0mself\u001b[0m\u001b[1;33m.\u001b[0m\u001b[0morigin\u001b[0m\u001b[1;33m)\u001b[0m\u001b[1;33m\u001b[0m\u001b[1;33m\u001b[0m\u001b[0m\n\u001b[0m\u001b[0;32m     25\u001b[0m         \u001b[0mself\u001b[0m\u001b[1;33m.\u001b[0m\u001b[0mcamera_to_local_matrix\u001b[0m \u001b[1;33m=\u001b[0m \u001b[0mnp\u001b[0m\u001b[1;33m.\u001b[0m\u001b[0mlinalg\u001b[0m\u001b[1;33m.\u001b[0m\u001b[0minv\u001b[0m\u001b[1;33m(\u001b[0m\u001b[0mself\u001b[0m\u001b[1;33m.\u001b[0m\u001b[0mlocal_to_camera_matrix\u001b[0m\u001b[1;33m)\u001b[0m\u001b[1;33m\u001b[0m\u001b[1;33m\u001b[0m\u001b[0m\n\u001b[0;32m     26\u001b[0m \u001b[1;33m\u001b[0m\u001b[0m\n",
      "\u001b[1;32mc:\\Users\\ajensen123\\Documents\\GitHub\\joint-angle-modeling\\joint-angle-modeling\\MarkerSet.py\u001b[0m in \u001b[0;36mcreate_transformation_matrix\u001b[1;34m(self, x_axis, y_axis, z_axis, origin)\u001b[0m\n\u001b[0;32m     26\u001b[0m \u001b[1;33m\u001b[0m\u001b[0m\n\u001b[0;32m     27\u001b[0m     \u001b[1;32mdef\u001b[0m \u001b[0mcreate_transformation_matrix\u001b[0m\u001b[1;33m(\u001b[0m\u001b[0mself\u001b[0m\u001b[1;33m,\u001b[0m \u001b[0mx_axis\u001b[0m\u001b[1;33m,\u001b[0m \u001b[0my_axis\u001b[0m\u001b[1;33m,\u001b[0m \u001b[0mz_axis\u001b[0m\u001b[1;33m,\u001b[0m \u001b[0morigin\u001b[0m\u001b[1;33m)\u001b[0m\u001b[1;33m:\u001b[0m\u001b[1;33m\u001b[0m\u001b[1;33m\u001b[0m\u001b[0m\n\u001b[1;32m---> 28\u001b[1;33m         \u001b[0mtemp\u001b[0m \u001b[1;33m=\u001b[0m \u001b[0mnp\u001b[0m\u001b[1;33m.\u001b[0m\u001b[0mempty\u001b[0m\u001b[1;33m(\u001b[0m\u001b[1;33m(\u001b[0m\u001b[1;36m4\u001b[0m\u001b[1;33m,\u001b[0m \u001b[1;36m4\u001b[0m\u001b[1;33m,\u001b[0m \u001b[0mlen\u001b[0m\u001b[1;33m(\u001b[0m\u001b[0mx_axis\u001b[0m\u001b[1;33m)\u001b[0m\u001b[1;33m)\u001b[0m\u001b[1;33m)\u001b[0m\u001b[1;33m\u001b[0m\u001b[1;33m\u001b[0m\u001b[0m\n\u001b[0m\u001b[0;32m     29\u001b[0m         \u001b[1;32mfor\u001b[0m \u001b[0midx\u001b[0m\u001b[1;33m,\u001b[0m \u001b[0mpoint\u001b[0m \u001b[1;32min\u001b[0m \u001b[0menumerate\u001b[0m\u001b[1;33m(\u001b[0m\u001b[0mx_axis\u001b[0m\u001b[1;33m)\u001b[0m\u001b[1;33m:\u001b[0m\u001b[1;33m\u001b[0m\u001b[1;33m\u001b[0m\u001b[0m\n\u001b[0;32m     30\u001b[0m             \u001b[0mtemp\u001b[0m\u001b[1;33m[\u001b[0m\u001b[1;33m:\u001b[0m\u001b[1;33m,\u001b[0m \u001b[1;33m:\u001b[0m\u001b[1;33m,\u001b[0m \u001b[0midx\u001b[0m\u001b[1;33m]\u001b[0m \u001b[1;33m=\u001b[0m \u001b[0mnp\u001b[0m\u001b[1;33m.\u001b[0m\u001b[0marray\u001b[0m\u001b[1;33m(\u001b[0m\u001b[1;33m[\u001b[0m\u001b[1;33m[\u001b[0m\u001b[0mx_axis\u001b[0m\u001b[1;33m[\u001b[0m\u001b[0midx\u001b[0m\u001b[1;33m]\u001b[0m\u001b[1;33m,\u001b[0m \u001b[0my_axis\u001b[0m\u001b[1;33m[\u001b[0m\u001b[0midx\u001b[0m\u001b[1;33m]\u001b[0m\u001b[1;33m,\u001b[0m \u001b[0mz_axis\u001b[0m\u001b[1;33m[\u001b[0m\u001b[0midx\u001b[0m\u001b[1;33m]\u001b[0m\u001b[1;33m,\u001b[0m \u001b[0morigin\u001b[0m\u001b[1;33m[\u001b[0m\u001b[0midx\u001b[0m\u001b[1;33m]\u001b[0m\u001b[1;33m]\u001b[0m\u001b[1;33m,\u001b[0m\u001b[1;33m[\u001b[0m\u001b[1;36m0\u001b[0m\u001b[1;33m,\u001b[0m\u001b[1;36m0\u001b[0m\u001b[1;33m,\u001b[0m\u001b[1;36m0\u001b[0m\u001b[1;33m,\u001b[0m\u001b[1;36m1\u001b[0m\u001b[1;33m]\u001b[0m\u001b[1;33m]\u001b[0m\u001b[1;33m)\u001b[0m\u001b[1;33m\u001b[0m\u001b[1;33m\u001b[0m\u001b[0m\n",
      "\u001b[1;31mTypeError\u001b[0m: object of type 'NoneType' has no len()"
     ]
    }
   ],
   "source": [
    "# create dynamic markerset object\n",
    "HipCenter = find_right_hip_center_andriacchi(RASIS=RASIS, RPSIS=RPSIS, LASIS=LASIS, LPSIS=LPSIS)\n",
    "DynamicThighXAxis = np.empty((len(RThigh), 3))\n",
    "for idx, (i, j) in enumerate(zip(RKnee, RThigh)):\n",
    "    DynamicThighXAxis[idx] = [i[0] - j[0], i[1] - j[1], i[2] - j[2]]\n",
    "DynamicThigh = MarkerSet(origin=RThigh, x_axis=DynamicThighXAxis, z_prime_end=HipCenter)\n",
    "\n"
   ]
  },
  {
   "cell_type": "code",
   "execution_count": null,
   "metadata": {},
   "outputs": [],
   "source": [
    "# create true markerset object\n",
    "# TrueThigh = MarkerSet(RKnee, RMedKnee, HipCenter)\n",
    "# TrueThigh = MarkerSet(origin, x_axis, z_prime_axis)\n",
    "TrueThighXAxis = np.empty((len(RKnee), 3))\n",
    "for idx, (i, j) in enumerate(zip(RKnee, RMedKnee)):\n",
    "    TrueThighXAxis[idx] = [i[0] - j[0], i[1] - j[1], i[2] - j[2]]\n",
    "TrueThighOrigin = MidPoint(RKnee, RMedKnee)\n",
    "TrueThigh = MarkerSet(origin=TrueThighOrigin[CALIB_MARKER_FRAME], x_axis=TrueThighXAxis[CALIB_MARKER_FRAME], z_prime_end=HipCenter[CALIB_MARKER_FRAME])\n",
    "\n",
    "# initialize thigh bone object\n",
    "Thigh = Bone(dynamic_marker_set=DynamicThigh, true_marker_set=TrueThigh)\n",
    "\n",
    "\n",
    "## Do Shank Things\n",
    "\n",
    "#create dynamic markerset object\n",
    "DynamicShankXAxis = np.empty((len(RShank), 3))\n",
    "for idx, (i, j) in enumerate(zip(RAnkle, RShank)):\n",
    "    DynamicShankXAxis[idx] = [i[0]-j[0], i[1]-j[1], i[2]-j[2]]\n",
    "DynamicShank = MarkerSet(origin=RShank[CALIB_MARKER_FRAME], x_axis=DynamicShankXAxis[CALIB_MARKER_FRAME], z_prime_end=RKnee[CALIB_MARKER_FRAME])\n",
    "\n",
    "# create true markerset object\n",
    "TrueShankXAxis = np.empty((len(RAnkle), 3))\n",
    "for idx, (i, j) in enumerate(zip(RKnee, RMedKnee)):\n",
    "    TrueShankXAxis[idx] = [i[0]-j[0], i[1]-j[1], i[2]-j[2]]\n",
    "TrueShankOrigin = TrueThighOrigin\n",
    "TrueShank = MarkerSet(origin=TrueShankOrigin[CALIB_MARKER_FRAME], x_axis=TrueShankXAxis[CALIB_MARKER_FRAME], z_prime_end=RAnkle[CALIB_MARKER_FRAME])\n",
    "\n",
    "# initialize shank bone object\n",
    "Shank = Bone(dynamic_marker_set=DynamicShank, true_marker_set=TrueShank)"
   ]
  },
  {
   "cell_type": "code",
   "execution_count": null,
   "metadata": {},
   "outputs": [],
   "source": [
    "Knee_Joint = Joint(Thigh, Shank)"
   ]
  }
 ],
 "metadata": {
  "kernelspec": {
   "display_name": "Python 3.9.6 ('knee-processing')",
   "language": "python",
   "name": "python3"
  },
  "language_info": {
   "codemirror_mode": {
    "name": "ipython",
    "version": 3
   },
   "file_extension": ".py",
   "mimetype": "text/x-python",
   "name": "python",
   "nbconvert_exporter": "python",
   "pygments_lexer": "ipython3",
   "version": "3.9.6"
  },
  "orig_nbformat": 4,
  "vscode": {
   "interpreter": {
    "hash": "0b6d319e39ba75083945fd2ace6d4be084cce53effd3b8c7618df5e0b743c8e1"
   }
  }
 },
 "nbformat": 4,
 "nbformat_minor": 2
}
