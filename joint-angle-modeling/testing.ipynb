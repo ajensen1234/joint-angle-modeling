{
 "cells": [
  {
   "cell_type": "code",
   "execution_count": 12,
   "metadata": {},
   "outputs": [
    {
     "name": "stdout",
     "output_type": "stream",
     "text": [
      "99.08587862527716\n"
     ]
    }
   ],
   "source": [
    "import numpy as np\n",
    "import pandas as pd\n",
    "from trc import TRCData\n",
    "\n",
    "#data = pd.read_csv('friday/4407cd01.trc')\n",
    "mocap_data = TRCData()\n",
    "mocap_data.load('4407cd01.trc')\n",
    "#print(mocap_data)\n",
    "#RThigh = mocap_data['RThigh']\n",
    "#print(RThigh)\n",
    "\n",
    "\n",
    "RKnee = mocap_data['LKnee']\n",
    "RKnee_frame = pd.DataFrame(RKnee, columns=['X', 'Y', 'Z'])\n",
    "\n",
    "print(RKnee_frame['X'].mean())\n"
   ]
  }
 ],
 "metadata": {
  "kernelspec": {
   "display_name": "Python 3.9.6 ('knee-processing')",
   "language": "python",
   "name": "python3"
  },
  "language_info": {
   "codemirror_mode": {
    "name": "ipython",
    "version": 3
   },
   "file_extension": ".py",
   "mimetype": "text/x-python",
   "name": "python",
   "nbconvert_exporter": "python",
   "pygments_lexer": "ipython3",
   "version": "3.9.6"
  },
  "orig_nbformat": 4,
  "vscode": {
   "interpreter": {
    "hash": "0b6d319e39ba75083945fd2ace6d4be084cce53effd3b8c7618df5e0b743c8e1"
   }
  }
 },
 "nbformat": 4,
 "nbformat_minor": 2
}
